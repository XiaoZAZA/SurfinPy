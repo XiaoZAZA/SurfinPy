{
 "cells": [
  {
   "cell_type": "markdown",
   "metadata": {},
   "source": [
    "## SurfinPy"
   ]
  },
  {
   "cell_type": "markdown",
   "metadata": {},
   "source": [
    "#### Tutorial 1 - Generating a phase diagram as a function of chemical potential and surface energy at 0 K"
   ]
  },
  {
   "cell_type": "markdown",
   "metadata": {},
   "source": [
    "In this tutorial we will learn how to generate a basic phase diagram from DFT energies. This example will consider a series of surfaces that contain differing amounts of surface oxygen and adsorbed water species. \n",
    "The physical quantity that is used to define the stability of a surface with a given composition is its surface energy $\\gamma$ (J $m^{-2}$). "
   ]
  },
  {
   "cell_type": "markdown",
   "metadata": {},
   "source": [
    "\\begin{align}\n",
    "\\gamma_{Surf} & = \\frac{1}{2S} \\Bigg( E_{MO}^{slab} - \\frac{N_M}{x} E_{MO}^{Bulk} \\Bigg) - \\Delta \\Gamma_O \\mu_O - \\Delta \\Gamma_{H_2O} \\mu_{H_2O}\n",
    "\\end{align}"
   ]
  },
  {
   "cell_type": "markdown",
   "metadata": {},
   "source": [
    "where S is the surface area, $E_{MO}^{slab}$ is the DFT energy of the stoichiometric slab, $N_M$ is the number of cations in the structure, x is the number of cations in the bulk unit cell, $E_{MO}^{Bulk}$ is the DFT energy of the bulk unit cell, $\\Gamma_O$ / $\\Gamma_{H_2O}$ is the excess oxygen / water at the surface and $\\mu_O$ / $\\mu_{H_2O}$ is the oxygen / water chemcial potential. Clearly $\\Gamma$ and $\\mu$ will only matter when the surface is non stoichiometric. "
   ]
  },
  {
   "cell_type": "markdown",
   "metadata": {},
   "source": [
    "So now lets work through an example"
   ]
  },
  {
   "cell_type": "code",
   "execution_count": 1,
   "metadata": {},
   "outputs": [],
   "source": [
    "import numpy as np\n",
    "import matplotlib.pyplot as plt\n",
    "import sys\n",
    "\n",
    "from surfinpy import mu_vs_mu"
   ]
  },
  {
   "cell_type": "markdown",
   "metadata": {},
   "source": [
    "The first thing to do is input the data that we have generated from our DFT simulations. The input data needs to be contained within a dictionary. First we have created the bulk dictionary where 'M' is the number of cations, 'O' is the number of anions, 'Energy' is the DFT energy and 'F-Units' is the number of formula units in the simulation. "
   ]
  },
  {
   "cell_type": "code",
   "execution_count": 2,
   "metadata": {
    "collapsed": true
   },
   "outputs": [],
   "source": [
    "bulk = {'M' : 1, 'O' : 2, 'Energy' : -781.954938, 'F-Units' : 32}"
   ]
  },
  {
   "cell_type": "markdown",
   "metadata": {},
   "source": [
    "Next we create the surface dictionaries - One for each surface or \"phase\". 'M' is the number of cations, 'X' is in this case the number of oxygen species (corresponding to the X axis of our phase diagram), 'Y' is the number of in this case water molecules (corresponding to the Y axis of our phase diagram), 'Area' is the surface area, 'Energy' is the DFT energy, and 'Label' is the label for the that surface (appears on the phase diagram)."
   ]
  },
  {
   "cell_type": "code",
   "execution_count": 3,
   "metadata": {
    "collapsed": true
   },
   "outputs": [],
   "source": [
    "pure =     {'M': 24, 'X': 48, 'Y': 0, 'Area': 60.22, 'Energy': -575.570172,   'Label': 'Stoich'}\n",
    "H2O =      {'M': 24, 'X': 48, 'Y': 2, 'Area': 60.22, 'Energy': -607.023918,   'Label': '1 Water'}\n",
    "H2O_2 =    {'M': 24, 'X': 48, 'Y': 4, 'Area': 60.22, 'Energy': -639.246207,   'Label': '2 Water'}\n",
    "H2O_3 =    {'M': 24, 'X': 48, 'Y': 8, 'Area': 60.22, 'Energy': -696.257891,   'Label': '3 Water'}\n",
    "\n",
    "Vo =       {'M': 24, 'X': 46, 'Y': 0, 'Area': 60.22, 'Energy': -559.446890,   'Label': 'M'}\n",
    "H2O_Vo =   {'M': 24, 'X': 46, 'Y': 2, 'Area': 60.22, 'Energy': -593.5710300,  'Label': 'Vo + 1 Water'}\n",
    "H2O_Vo_2 = {'M': 24, 'X': 46, 'Y': 4, 'Area': 60.22, 'Energy': -624.5395200,  'Label': 'Vo + 2 Water'}\n",
    "H2O_Vo_3 = {'M': 24, 'X': 46, 'Y': 6, 'Area': 60.22, 'Energy': -655.31882000, 'Label': 'Vo + 3 Water'}\n",
    "H2O_Vo_4 = {'M': 24, 'X': 46, 'Y': 8, 'Area': 60.22, 'Energy': -683.71649000, 'Label': 'Vo + 4 Water'}"
   ]
  },
  {
   "cell_type": "markdown",
   "metadata": {},
   "source": [
    "Next we need to create a list of our data. Having a single object associated with the data makes life easier. "
   ]
  },
  {
   "cell_type": "code",
   "execution_count": 4,
   "metadata": {
    "collapsed": true
   },
   "outputs": [],
   "source": [
    "data = [pure, H2O_2, H2O_Vo, H2O,  H2O_Vo_2, H2O_3, H2O_Vo_3,  H2O_Vo_4, Vo]"
   ]
  },
  {
   "cell_type": "markdown",
   "metadata": {},
   "source": [
    "We now need to generate our X and Y axis, or more appropriately, our chemical potential values. Again these exist in a dictionary. 'Range' corresponds to the range of chemcial potential values to be considered and 'Label' is the axis label."
   ]
  },
  {
   "cell_type": "code",
   "execution_count": 5,
   "metadata": {
    "collapsed": true
   },
   "outputs": [],
   "source": [
    "deltaX = {'Range': [ -10, -4],  'Label': 'O'}\n",
    "deltaY = {'Range': [ -19, -12], 'Label': 'H_2O'}"
   ]
  },
  {
   "cell_type": "markdown",
   "metadata": {},
   "source": [
    "And finally we can generate our plot using these 4 variables of data. "
   ]
  },
  {
   "cell_type": "code",
   "execution_count": 6,
   "metadata": {
    "scrolled": false
   },
   "outputs": [
    {
     "data": {
      "image/png": "[encoded data removed]",
      "text/plain": [
       "<matplotlib.figure.Figure at 0x7f339c2fe828>"
      ]
     },
     "metadata": {},
     "output_type": "display_data"
    }
   ],
   "source": [
    "mu_vs_mu.calculate(data, bulk, deltaX, deltaY)"
   ]
  },
  {
   "cell_type": "markdown",
   "metadata": {},
   "source": [
    "This plot is a good start in that the relative stability of the surfaces has been evaluated. However the chemical potential values are essentially meaningless and can be dependent on the pseudopotentials. In the next tutorial we will learn how to convert these numbers into something a bit more meaningful."
   ]
  }
 ],
 "metadata": {
  "kernelspec": {
   "display_name": "Python 3",
   "language": "python",
   "name": "python3"
  },
  "language_info": {
   "codemirror_mode": {
    "name": "ipython",
    "version": 3
   },
   "file_extension": ".py",
   "mimetype": "text/x-python",
   "name": "python",
   "nbconvert_exporter": "python",
   "pygments_lexer": "ipython3",
   "version": "3.6.1"
  }
 },
 "nbformat": 4,
 "nbformat_minor": 2
}
