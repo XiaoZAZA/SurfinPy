{
 "cells": [
  {
   "cell_type": "code",
   "execution_count": 1,
   "metadata": {},
   "outputs": [],
   "source": [
    "import sys\n",
    "import numpy as np\n",
    "sys.path.append('../surfinpy/')\n",
    "import p_vs_t as pt\n",
    "import phaseplot as pp\n",
    "import utils as ut\n",
    "\n",
    "bulk = {'M' : 1, 'O' : 2, 'Energy' : -781.954938, 'F-Units' : 4}\n",
    "stoich = {'M': 24, 'X': 48, 'Y': 0, 'Area': 60.22, 'Energy': -535.660075, 'Label': '0.00 - $Ce^{4+}$'}\n",
    "H2O = {'M': 24, 'X': 48, 'Y': 2, 'Area': 60.22, 'Energy': -621.877140,  'Label': '1.66 - $Ce^{4+}$'}\n",
    "H2O_2 = {'M': 24, 'X': 48, 'Y': 4, 'Area': 60.22, 'Energy': -670.229520, 'Label': '3.32 - $Ce^{4+}$'}\n",
    "data = [H2O, H2O_2]\n",
    "\n",
    "surfs = ut.System(data, stoich)"
   ]
  },
  {
   "cell_type": "code",
   "execution_count": 2,
   "metadata": {},
   "outputs": [
    {
     "name": "stdout",
     "output_type": "stream",
     "text": [
      "3.3211557622052475e+18\n"
     ]
    }
   ],
   "source": [
    "coverage = surfs.calculate_coverage(1) \n",
    "    \n",
    "print(coverage)"
   ]
  },
  {
   "cell_type": "code",
   "execution_count": null,
   "metadata": {},
   "outputs": [],
   "source": []
  },
  {
   "cell_type": "code",
   "execution_count": 16,
   "metadata": {},
   "outputs": [
    {
     "name": "stdout",
     "output_type": "stream",
     "text": [
      "(10, 3)\n",
      "(10,)\n",
      "[[ 9.9 13.2 16.5]\n",
      " [ 0.   3.3  6.6]\n",
      " [19.8 23.1 26.4]\n",
      " [ 9.9 13.2 16.5]\n",
      " [ 0.   3.3  6.6]\n",
      " [19.8 23.1 26.4]\n",
      " [ 9.9 13.2 16.5]\n",
      " [ 0.   3.3  6.6]\n",
      " [19.8 23.1 26.4]\n",
      " [ 9.9 13.2 16.5]]\n"
     ]
    }
   ],
   "source": [
    "import numpy as np\n",
    "val_arr = np.arange(30).reshape(10,3)\n",
    "val_arr = val_arr * 3.3\n",
    "print(val_arr.shape)\n",
    "\n",
    "z_indices = np.array([1,0,2,1,0,2,1,0,2,1])\n",
    "print(z_indices.shape)\n",
    "x = val_arr[z_indices]\n",
    "#x = z_indices.choose(val_arr)\n",
    "print(x)"
   ]
  },
  {
   "cell_type": "code",
   "execution_count": null,
   "metadata": {},
   "outputs": [],
   "source": []
  }
 ],
 "metadata": {
  "kernelspec": {
   "display_name": "Python 3",
   "language": "python",
   "name": "python3"
  },
  "language_info": {
   "codemirror_mode": {
    "name": "ipython",
    "version": 3
   },
   "file_extension": ".py",
   "mimetype": "text/x-python",
   "name": "python",
   "nbconvert_exporter": "python",
   "pygments_lexer": "ipython3",
   "version": "3.6.7"
  }
 },
 "nbformat": 4,
 "nbformat_minor": 2
}
