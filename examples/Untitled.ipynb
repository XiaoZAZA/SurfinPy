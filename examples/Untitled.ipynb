{
 "cells": [
  {
   "cell_type": "code",
   "execution_count": 7,
   "metadata": {},
   "outputs": [],
   "source": [
    "import numpy as np\n",
    "import matplotlib.pyplot as plt\n",
    "from surfinpy import utils as ut"
   ]
  },
  {
   "cell_type": "code",
   "execution_count": 8,
   "metadata": {},
   "outputs": [
    {
     "name": "stdout",
     "output_type": "stream",
     "text": [
      "[[ 0.00000e+00  0.00000e+00  0.00000e+00          nan -9.90400e+00\n",
      "  -2.38921e+02 -2.38921e+02          nan]\n",
      " [ 1.00000e+02  3.32990e+01  1.52388e+02  2.18534e+02 -6.61500e+00\n",
      "  -2.40083e+02 -2.36584e+02  1.23579e+02]\n",
      " [ 2.00000e+02  3.33490e+01  1.75485e+02  1.91896e+02 -3.28200e+00\n",
      "  -2.40900e+02 -2.32766e+02  6.07920e+01]\n",
      " [ 2.98150e+02  3.35900e+01  1.88834e+02  1.88834e+02  0.00000e+00\n",
      "  -2.41826e+02 -2.28582e+02  4.00470e+01]\n",
      " [ 3.00000e+02  3.35960e+01  1.89042e+02  1.88835e+02  6.20000e-02\n",
      "  -2.41844e+02 -2.28500e+02  3.97850e+01]\n",
      " [ 4.00000e+02  3.42620e+01  1.98788e+02  1.90159e+02  3.45200e+00\n",
      "  -2.42846e+02 -2.23901e+02  2.92380e+01]\n",
      " [ 5.00000e+02  3.52260e+01  2.06534e+02  1.92685e+02  6.92500e+00\n",
      "  -2.43826e+02 -2.19051e+02  2.28840e+01]\n",
      " [ 6.00000e+02  3.63250e+01  2.13052e+02  1.95550e+02  1.05010e+01\n",
      "  -2.44758e+02 -2.14007e+02  1.86310e+01]\n",
      " [ 7.00000e+02  3.74950e+01  2.18739e+02  1.98465e+02  1.41920e+01\n",
      "  -2.45632e+02 -2.08812e+02  1.55820e+01]\n",
      " [ 8.00000e+02  3.87210e+01  2.23825e+02  2.01322e+02  1.80020e+01\n",
      "  -2.46443e+02 -2.03496e+02  1.32870e+01]\n",
      " [ 9.00000e+02  3.99870e+01  2.28459e+02  2.04084e+02  2.19380e+01\n",
      "  -2.47185e+02 -1.98083e+02  1.14960e+01]\n",
      " [ 1.00000e+03  4.12680e+01  2.32738e+02  2.06738e+02  2.60000e+01\n",
      "  -2.47857e+02 -1.92590e+02  1.00600e+01]]\n"
     ]
    }
   ],
   "source": [
    "t = np.arange(0, 1000)\n",
    "nist_data = ut.read_nist(\"H2O.txt\")\n",
    "print(nist_data)\n",
    "fitted_nist = ut.fit(nist_data, t)"
   ]
  },
  {
   "cell_type": "code",
   "execution_count": 6,
   "metadata": {},
   "outputs": [
    {
     "data": {
      "image/png": "[encoded data removed]",
      "text/plain": [
       "<Figure size 432x288 with 1 Axes>"
      ]
     },
     "metadata": {
      "needs_background": "light"
     },
     "output_type": "display_data"
    }
   ],
   "source": [
    "plt.scatter(nist_data[:,0], nist_data[:,2])\n",
    "plt.plot(t, fitted_nist)\n",
    "plt.xlim(0, 1000)\n",
    "plt.show()"
   ]
  },
  {
   "cell_type": "code",
   "execution_count": null,
   "metadata": {},
   "outputs": [],
   "source": []
  }
 ],
 "metadata": {
  "kernelspec": {
   "display_name": "Python 3",
   "language": "python",
   "name": "python3"
  },
  "language_info": {
   "codemirror_mode": {
    "name": "ipython",
    "version": 3
   },
   "file_extension": ".py",
   "mimetype": "text/x-python",
   "name": "python",
   "nbconvert_exporter": "python",
   "pygments_lexer": "ipython3",
   "version": "3.6.7"
  }
 },
 "nbformat": 4,
 "nbformat_minor": 2
}
