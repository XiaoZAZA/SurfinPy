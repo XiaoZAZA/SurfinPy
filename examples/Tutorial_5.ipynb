{
 "cells": [
  {
   "cell_type": "markdown",
   "metadata": {},
   "source": [
    "# Tutorial 5 - Particle Morphologies"
   ]
  },
  {
   "cell_type": "markdown",
   "metadata": {},
   "source": [
    "It is sometimes useful to use surface energies in order to generate particle morphologies. This tutorial demonstrates how to obtain surface energies for surfaces containing adsorbed species using surfinpy and how to use these surface energies to generate a wulff construction using pymatgen(1)\n",
    "\n",
    "\n",
    "\n",
    "(1) https://www.sciencedirect.com/science/article/pii/S0927025612006295?via%3Dihub"
   ]
  },
  {
   "cell_type": "code",
   "execution_count": null,
   "metadata": {},
   "outputs": [],
   "source": [
    "import sys\n",
    "import numpy as np\n",
    "from surfinpy import p_vs_t as pt\n",
    "from surfinpy import wulff  \n",
    "from surfinpy import utils as ut\n",
    "from pymatgen.core.surface import SlabGenerator, generate_all_slabs, Structure, Lattice\n",
    "from pymatgen.analysis.wulff import WulffShape"
   ]
  },
  {
   "cell_type": "code",
   "execution_count": null,
   "metadata": {},
   "outputs": [],
   "source": [
    "adsorbant = -21.55846785\n",
    "SE = 1.44\n",
    "stoich = {'M': 24, 'X': 48, 'Y': 0, 'Area':60.22, 'Energy': -574.66, 'Label': 'Stoich'}\n",
    "Adsorbant_1 = {'M': 24, 'X': 48, 'Y': 2, 'Area': 60.22, 'Energy': -625.87,  'Label': '1 Species'}\n",
    "Adsorbant_2 = {'M': 24, 'X': 48, 'Y': 4, 'Area': 60.22, 'Energy': -671.22, 'Label': '2 Species'}\n",
    "\n",
    "data = [Adsorbant_1, Adsorbant_2]\n",
    "thermochem = ut.read_nist('H2O.txt')\n",
    "\n",
    "Surface_100 = wulff.calculate_surface_energy(stoich, data, SE, adsorbant, thermochem, 298, 0)"
   ]
  },
  {
   "cell_type": "code",
   "execution_count": null,
   "metadata": {},
   "outputs": [],
   "source": [
    "adsorbant = -21.55846785\n",
    "SE = 1.06\n",
    "\n",
    "stoich = {'M': 24, 'X': 48, 'Y': 0, 'Area': 85.12, 'Energy': -670.95, 'Label': 'Stoich'}\n",
    "Adsorbant_1 = {'M': 24, 'X': 48, 'Y': 2, 'Area': 85.12, 'Energy': -715.62,  'Label': '1 Species'}\n",
    "Adsorbant_2 = {'M': 24, 'X': 48, 'Y': 4, 'Area':85.12, 'Energy': -765.80, 'Label': '2 Species'}\n",
    "\n",
    "data = [Adsorbant_1, Adsorbant_2]\n",
    "thermochem = ut.read_nist('H2O.txt')\n",
    "Surface_110 = wulff.calculate_surface_energy(stoich, data, SE, adsorbant, thermochem, 298, 0)"
   ]
  },
  {
   "cell_type": "code",
   "execution_count": null,
   "metadata": {},
   "outputs": [],
   "source": [
    "adsorbant = -21.55846785\n",
    "SE = 0.76\n",
    "stoich = {'M': 24, 'X': 48, 'Y': 0, 'Area': 77.14, 'Energy': -580.610371, 'Label': '0.00 - $Ce^{4+}$'}\n",
    "Adsorbant_1 = {'M': 24, 'X': 48, 'Y': 2, 'Area': 77.14, 'Energy': -625.24728,  'Label': '1.66 - $Ce^{4+}$'}\n",
    "Adsorbant_2 = {'M': 24, 'X': 48, 'Y': 4, 'Area': 77.14, 'Energy': -671.77988, 'Label': '3.32 - $Ce^{4+}$'}\n",
    "\n",
    "data = [Adsorbant_1, Adsorbant_2]\n",
    "thermochem = ut.read_nist('H2O.txt')\n",
    "\n",
    "Surface_111 = wulff.calculate_surface_energy(stoich, data, SE, adsorbant, thermochem, 298, 0)"
   ]
  },
  {
   "cell_type": "code",
   "execution_count": null,
   "metadata": {},
   "outputs": [],
   "source": [
    "print(Surface_100)\n",
    "print(Surface_110)\n",
    "print(Surface_111)"
   ]
  },
  {
   "cell_type": "code",
   "execution_count": null,
   "metadata": {
    "scrolled": false
   },
   "outputs": [],
   "source": [
    "lattice = Lattice.cubic(5.411)\n",
    "ceo = Structure(lattice,[\"Ce\", \"O\"],\n",
    "               [[0,0,0], [0.25,0.25,0.25]])\n",
    "surface_energies_ceo = {(1,1,1): Surface_111[0], (1,1,0): Surface_110[0], (1,0,0): Surface_100[0]}\n",
    "\n",
    "miller_list = surface_energies_ceo.keys()\n",
    "e_surf_list = surface_energies_ceo.values()\n",
    "\n",
    "# We can now construct a Wulff shape with an accuracy up to a max Miller index of 3\n",
    "wulffshape = WulffShape(ceo.lattice, miller_list, e_surf_list)\n",
    "\n",
    "# Let's get some useful information from our wulffshape object\n",
    "print(\"shape factor: %.3f, anisotropy: \\\n",
    "%.3f, weighted surface energy: %.3f J/m^2\" %(wulffshape.shape_factor, \n",
    "                                       wulffshape.anisotropy,\n",
    "                                       wulffshape.weighted_surface_energy))\n",
    "\n",
    "\n",
    "# If we want to see what our Wulff shape looks like\n",
    "wulffshape.show(custom_colors={(1, 1, 1): [0.40392156862745099, 0.0, 0.12156862745098039, 1.0]}, direction=(1.00, 0.25, 0.25))"
   ]
  },
  {
   "cell_type": "code",
   "execution_count": null,
   "metadata": {},
   "outputs": [],
   "source": [
    "lattice = Lattice.cubic(5.411)\n",
    "ceo = Structure(lattice,[\"Ce\", \"O\"],\n",
    "               [[0,0,0], [0.25,0.25,0.25]])\n",
    "surface_energies_ceo = {(1,1,1): Surface_111[1], (1,1,0): Surface_110[1], (1,0,0): Surface_100[1]}\n",
    "\n",
    "miller_list = surface_energies_ceo.keys()\n",
    "e_surf_list = surface_energies_ceo.values()\n",
    "\n",
    "# We can now construct a Wulff shape with an accuracy up to a max Miller index of 3\n",
    "wulffshape = WulffShape(ceo.lattice, miller_list, e_surf_list)\n",
    "\n",
    "# Let's get some useful information from our wulffshape object\n",
    "print(\"shape factor: %.3f, anisotropy: \\\n",
    "%.3f, weighted surface energy: %.3f J/m^2\" %(wulffshape.shape_factor, \n",
    "                                       wulffshape.anisotropy,\n",
    "                                       wulffshape.weighted_surface_energy))\n",
    "\n",
    "\n",
    "# If we want to see what our Wulff shape looks like\n",
    "wulffshape.show(color_set=\"RdBu\", direction=(1.00, 0.25, 0.25))\n"
   ]
  },
  {
   "cell_type": "code",
   "execution_count": null,
   "metadata": {},
   "outputs": [],
   "source": [
    "lattice = Lattice.cubic(5.411)\n",
    "ceo = Structure(lattice,[\"Ce\", \"O\"],\n",
    "               [[0,0,0], [0.25,0.25,0.25]])\n",
    "surface_energies_ceo = {(1,1,1): Surface_111[2], (1,1,0): Surface_110[2], (1,0,0): Surface_100[2]}\n",
    "\n",
    "miller_list = surface_energies_ceo.keys()\n",
    "e_surf_list = surface_energies_ceo.values()\n",
    "\n",
    "# We can now construct a Wulff shape with an accuracy up to a max Miller index of 3\n",
    "wulffshape = WulffShape(ceo.lattice, miller_list, e_surf_list)\n",
    "\n",
    "# Let's get some useful information from our wulffshape object\n",
    "print(\"shape factor: %.3f, anisotropy: \\\n",
    "%.3f, weighted surface energy: %.3f J/m^2\" %(wulffshape.shape_factor, \n",
    "                                       wulffshape.anisotropy,\n",
    "                                       wulffshape.weighted_surface_energy))\n",
    "\n",
    "\n",
    "# If we want to see what our Wulff shape looks like\n",
    "wulffshape.show(color_set=\"RdBu\", direction=(1.00, 0.60, 0.25))"
   ]
  }
 ],
 "metadata": {
  "kernelspec": {
   "display_name": "Python 3",
   "language": "python",
   "name": "python3"
  },
  "language_info": {
   "codemirror_mode": {
    "name": "ipython",
    "version": 3
   },
   "file_extension": ".py",
   "mimetype": "text/x-python",
   "name": "python",
   "nbconvert_exporter": "python",
   "pygments_lexer": "ipython3",
   "version": "3.6.7"
  }
 },
 "nbformat": 4,
 "nbformat_minor": 2
}
