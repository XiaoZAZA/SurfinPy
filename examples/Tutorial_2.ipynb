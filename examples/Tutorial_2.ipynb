{
 "cells": [
  {
   "cell_type": "markdown",
   "metadata": {},
   "source": [
    "## SurfinPy"
   ]
  },
  {
   "cell_type": "markdown",
   "metadata": {},
   "source": [
    "#### Tutorial 2 - Introducing temperature dependence"
   ]
  },
  {
   "cell_type": "markdown",
   "metadata": {
    "collapsed": true
   },
   "source": [
    "In tutorial 1 we generated a phase diagram at 0K. However this is not representative of normal conditions. Temperature is an important consideration for materials chemists and we may wish to evaluate the state of a solid electrolyte at the operating temperature or synthesis conditions. In order to overcome this and introduce temperature we need to modify the equation for our surface energy in tutorial 1. "
   ]
  },
  {
   "cell_type": "markdown",
   "metadata": {
    "collapsed": true
   },
   "source": [
    "\\begin{align}\n",
    "\\gamma_{Surf} & = \\frac{1}{2S} \\Bigg( E_{MO}^{slab} - \\frac{N_M}{x} E_{MO}^{Bulk} \\Bigg) - \\Delta \\Gamma_O \\mu_O - \\Delta \\Gamma_{H_2O} \\mu_{H_2O} - \\Delta n_O \\mu_O (T) - \\Delta n_{H_2O} \\mu_{H_2O} (T) \n",
    "\\end{align}"
   ]
  },
  {
   "cell_type": "markdown",
   "metadata": {
    "collapsed": true
   },
   "source": [
    "where $\\mu$ is now a temperature dependent term and is evaluated by combining DFT data with experimental data tabulated within the NIST-JANAF database and can be defined as"
   ]
  },
  {
   "cell_type": "markdown",
   "metadata": {
    "collapsed": true
   },
   "source": [
    "\\begin{align}\n",
    "\\mu_O (T) &  = \\frac{1}{2} \\mu_O (T) (0 K , DFT) +  \\frac{1}{2} \\mu_O (T) (0 K , EXP) +  \\frac{1}{2} \\Delta G_{O_2} ( \\Delta T, Exp)\n",
    "\\end{align}"
   ]
  },
  {
   "cell_type": "markdown",
   "metadata": {
    "collapsed": true
   },
   "source": [
    "where $\\mu_O$ (T) (0 K , DFT) is the 0K free energy of an isolated oxygen moleculeevaluated with DFT, $\\mu_O$ (T) (0 K , EXP) is the 0 K experimental  Gibbs energy for oxygen gas and $\\Delta$ $G_{O_2}$ ( $\\Delta$ T, Exp) is the Gibbs energy defined at temperature T as"
   ]
  },
  {
   "cell_type": "markdown",
   "metadata": {},
   "source": [
    "\\begin{align}\n",
    "\\Delta G_{O_2} ( \\Delta T, Exp) &  = \\frac{1}{2} [H(T, {O_2}) -  H(0 K, {O_2})] -  \\frac{1}{2} T[S(T, {O_2}])\n",
    "\\end{align}"
   ]
  },
  {
   "cell_type": "code",
   "execution_count": 1,
   "metadata": {},
   "outputs": [],
   "source": [
    "import sys \n",
    "#from surfinpy import mu_vs_mu\n",
    "\n",
    "import sys\n",
    "\n",
    "sys.path.append('../surfinpy/')\n",
    "import utils as ut\n",
    "import mu_vs_mu"
   ]
  },
  {
   "cell_type": "markdown",
   "metadata": {},
   "source": [
    "In order to calculate our $\\Delta$ $G_{O_2}$ ( $\\Delta$ T, Exp) values we need to use experimental data from the NIST-JANAF database. As a user you need to download the tables for the species you are interested in ( In our case oxygen and water). Surfinpy has a function that can read this data, assuming it is in the correct format. "
   ]
  },
  {
   "cell_type": "code",
   "execution_count": 2,
   "metadata": {},
   "outputs": [],
   "source": [
    "Oxygen = ut.read_nist(\"O2.txt\")\n",
    "Water = ut.read_nist(\"H2O.txt\")"
   ]
  },
  {
   "cell_type": "markdown",
   "metadata": {},
   "source": [
    "Once we have the data we can calculate $\\Delta$ $G_{O_2}$ ( $\\Delta$ T, Exp) using the calculate_Gibbs function."
   ]
  },
  {
   "cell_type": "code",
   "execution_count": 3,
   "metadata": {},
   "outputs": [],
   "source": [
    "Oxygen_tcd = ut.calculate_gibbs(Oxygen)\n",
    "Water_tcd = ut.calculate_gibbs(Water)"
   ]
  },
  {
   "cell_type": "markdown",
   "metadata": {},
   "source": [
    "Now we can calculate $\\mu_O$ (T) using $\\Delta$ $G_{O_2}$ ( $\\Delta$ T, Exp), our DFT 0 K energy (water = -14.27662859 and oxygen = -9.08) and the 0 K exp energy ( water = 0.558478411 and oxygen = 0.86)."
   ]
  },
  {
   "cell_type": "code",
   "execution_count": 4,
   "metadata": {},
   "outputs": [],
   "source": [
    "O_DFT = -9.08 + -0.86\n",
    "Water_DFT = -14.835107 + 0.55\n",
    "\n",
    "Oxygen_tcd['Shift'] = (O_DFT + Oxygen_tcd['Shift']) / 2\n",
    "Water_tcd['Shift'] = (Water_DFT + Water_tcd['Shift'])"
   ]
  },
  {
   "cell_type": "markdown",
   "metadata": {},
   "source": [
    "We want to know what our $\\mu_O$ (T) is at 298.15 K so we need to extract it from our data "
   ]
  },
  {
   "cell_type": "code",
   "execution_count": 5,
   "metadata": {},
   "outputs": [],
   "source": [
    "for i in range(0, Oxygen_tcd['Shift'].size):\n",
    "    if Oxygen_tcd['Temperature'][i] == 298.15:\n",
    "        Oxygen_shift = (Oxygen_tcd['Shift'][i])\n",
    "        \n",
    "for i in range(0, Water_tcd['Shift'].size):\n",
    "    if Oxygen_tcd['Temperature'][i] == 298.15:\n",
    "        Water_shift = (Water_tcd['Shift'][i])       "
   ]
  },
  {
   "cell_type": "markdown",
   "metadata": {},
   "source": [
    "Now we can generate our temperature adjusted phase diagram"
   ]
  },
  {
   "cell_type": "code",
   "execution_count": 6,
   "metadata": {},
   "outputs": [],
   "source": [
    "bulk = {'M' : 1, 'O' : 2, 'Energy' : -781.954938, 'F-Units' : 32}\n",
    "\n",
    "pure =     {'M': 24, 'X': 48, 'Y': 0, 'Area': 60.22, 'Energy': -575.570172,   'Label': 'Stoich'}\n",
    "H2O =      {'M': 24, 'X': 48, 'Y': 2, 'Area': 60.22, 'Energy': -607.023918,   'Label': '1 Water'}\n",
    "H2O_2 =    {'M': 24, 'X': 48, 'Y': 4, 'Area': 60.22, 'Energy': -639.246207,   'Label': '2 Water'}\n",
    "H2O_3 =    {'M': 24, 'X': 48, 'Y': 8, 'Area': 60.22, 'Energy': -696.257891,   'Label': '3 Water'}\n",
    "\n",
    "Vo =       {'M': 24, 'X': 46, 'Y': 0, 'Area': 60.22, 'Energy': -559.446890,   'Label': 'M'}\n",
    "H2O_Vo =   {'M': 24, 'X': 46, 'Y': 2, 'Area': 60.22, 'Energy': -593.5710300,  'Label': 'Vo + 1 Water'}\n",
    "H2O_Vo_2 = {'M': 24, 'X': 46, 'Y': 4, 'Area': 60.22, 'Energy': -624.5395200,  'Label': 'Vo + 2 Water'}\n",
    "H2O_Vo_3 = {'M': 24, 'X': 46, 'Y': 6, 'Area': 60.22, 'Energy': -655.31882000, 'Label': 'Vo + 3 Water'}\n",
    "H2O_Vo_4 = {'M': 24, 'X': 46, 'Y': 8, 'Area': 60.22, 'Energy': -683.71649000, 'Label': 'Vo + 4 Water'}\n",
    "\n",
    "data = [pure, H2O_2, H2O_Vo, H2O,  H2O_Vo_2, H2O_3, H2O_Vo_3,  H2O_Vo_4, Vo]"
   ]
  },
  {
   "cell_type": "code",
   "execution_count": 7,
   "metadata": {},
   "outputs": [
    {
     "name": "stdout",
     "output_type": "stream",
     "text": [
      "-5.015368793792\n"
     ]
    }
   ],
   "source": [
    "deltaX = {'Range': [ -10, -4],  'Label': 'O'}\n",
    "deltaY = {'Range': [ -19, -12], 'Label': 'H_2O'}\n",
    "print(Oxygen_shift)"
   ]
  },
  {
   "cell_type": "code",
   "execution_count": 8,
   "metadata": {
    "scrolled": false
   },
   "outputs": [
    {
     "data": {
      "image/png": "[encoded data removed]",
      "text/plain": [
       "<Figure size 432x288 with 2 Axes>"
      ]
     },
     "metadata": {
      "needs_background": "light"
     },
     "output_type": "display_data"
    }
   ],
   "source": [
    "surface_energies,X, Y  = mu_vs_mu.calculate(data, bulk, deltaX, deltaY, xshiftval=Oxygen_shift, yshiftval=-14.75, temperature=298)"
   ]
  },
  {
   "cell_type": "code",
   "execution_count": 9,
   "metadata": {},
   "outputs": [
    {
     "data": {
      "image/png": "[encoded data removed]",
      "text/plain": [
       "<Figure size 432x288 with 2 Axes>"
      ]
     },
     "metadata": {
      "needs_background": "light"
     },
     "output_type": "display_data"
    }
   ],
   "source": [
    "import matplotlib.pyplot as plt\n",
    "import numpy as np\n",
    "Z = np.reshape(surface_energies, (Y.size, X.size))\n",
    "\n",
    "fig = plt.figure()\n",
    "ax = fig.add_subplot(111)\n",
    "CM = ax.contourf(X,Y, Z)\n",
    "cbar = fig.colorbar(CM)\n",
    "plt.show()"
   ]
  },
  {
   "cell_type": "code",
   "execution_count": null,
   "metadata": {},
   "outputs": [],
   "source": []
  }
 ],
 "metadata": {
  "kernelspec": {
   "display_name": "Python 3",
   "language": "python",
   "name": "python3"
  },
  "language_info": {
   "codemirror_mode": {
    "name": "ipython",
    "version": 3
   },
   "file_extension": ".py",
   "mimetype": "text/x-python",
   "name": "python",
   "nbconvert_exporter": "python",
   "pygments_lexer": "ipython3",
   "version": "3.6.7"
  }
 },
 "nbformat": 4,
 "nbformat_minor": 2
}
