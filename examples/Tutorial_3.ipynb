{
 "cells": [
  {
   "cell_type": "markdown",
   "metadata": {},
   "source": [
    "# Surfinpy"
   ]
  },
  {
   "cell_type": "markdown",
   "metadata": {},
   "source": [
    "#### Tutorial 3 - Pressure"
   ]
  },
  {
   "cell_type": "markdown",
   "metadata": {},
   "source": [
    "Description of theory needed"
   ]
  },
  {
   "cell_type": "code",
   "execution_count": null,
   "metadata": {},
   "outputs": [],
   "source": [
    "import sys \n",
    "from surfinpy import utils as ut\n",
    "from surfinpy import mu_vs_mu"
   ]
  },
  {
   "cell_type": "code",
   "execution_count": null,
   "metadata": {},
   "outputs": [],
   "source": [
    "Oxygen_exp = mu_vs_mu.temperature_correction(\"O2.txt\", 298)\n",
    "Water_exp = mu_vs_mu.temperature_correction(\"H2O.txt\", 298)\n",
    "O_DFT = -9.08 + -0.86\n",
    "Water_DFT = -14.835107 + 0.55\n",
    "Oxygen_corrected = O_DFT + Oxygen_exp / 2\n",
    "Water_corrected = Water_DFT + Water_exp"
   ]
  },
  {
   "cell_type": "code",
   "execution_count": null,
   "metadata": {},
   "outputs": [],
   "source": [
    "bulk = {'M' : 1, 'O' : 2, 'Energy' : -781.954938, 'F-Units' : 32}\n",
    "\n",
    "pure =     {'M': 24, 'X': 48, 'Y': 0, 'Area': 60.0, 'Energy': -575.0,   'Label': 'Stoich',  'nSpecies': 1}\n",
    "H2O =      {'M': 24, 'X': 48, 'Y': 2, 'Area': 60.0, 'Energy': -610.0,   'Label': '1 Water', 'nSpecies': 1}\n",
    "H2O_2 =    {'M': 24, 'X': 48, 'Y': 4, 'Area': 60.0, 'Energy': -640.0,   'Label': '2 Water', 'nSpecies': 1}\n",
    "H2O_3 =    {'M': 24, 'X': 48, 'Y': 8, 'Area': 60.0, 'Energy': -700.0,   'Label': '3 Water', 'nSpecies': 1}\n",
    "\n",
    "Vo =       {'M': 24, 'X': 46, 'Y': 0, 'Area': 60.0, 'Energy': -560.0,   'Label': 'M', 'nSpecies': 1}\n",
    "H2O_Vo =   {'M': 24, 'X': 46, 'Y': 2, 'Area': 60.0, 'Energy': -590.0,  'Label': 'Vo + 1 Water', 'nSpecies': 1}\n",
    "H2O_Vo_2 = {'M': 24, 'X': 46, 'Y': 4, 'Area': 60.0, 'Energy': -620.0,  'Label': 'Vo + 2 Water', 'nSpecies': 1}\n",
    "H2O_Vo_3 = {'M': 24, 'X': 46, 'Y': 6, 'Area': 60.0, 'Energy': -660.0, 'Label': 'Vo + 3 Water', 'nSpecies': 1}\n",
    "H2O_Vo_4 = {'M': 24, 'X': 46, 'Y': 8, 'Area': 60.0, 'Energy': -680.0, 'Label': 'Vo + 4 Water', 'nSpecies': 1}\n",
    "\n",
    "data = [pure, H2O_2, H2O_Vo, H2O,  H2O_Vo_2, H2O_3, H2O_Vo_3,  H2O_Vo_4, Vo]"
   ]
  },
  {
   "cell_type": "code",
   "execution_count": null,
   "metadata": {},
   "outputs": [],
   "source": [
    "deltaX = {'Range': [ -10, -4],  'Label': 'O'}\n",
    "deltaY = {'Range': [ -19, -12], 'Label': 'H_2O'}"
   ]
  },
  {
   "cell_type": "code",
   "execution_count": null,
   "metadata": {
    "scrolled": false
   },
   "outputs": [],
   "source": [
    "system =  mu_vs_mu.calculate(data, bulk, deltaX, deltaY, xshiftval=Oxygen_corrected, yshiftval=Water_corrected)"
   ]
  },
  {
   "cell_type": "code",
   "execution_count": null,
   "metadata": {},
   "outputs": [],
   "source": [
    "system.plot_phase()"
   ]
  },
  {
   "cell_type": "code",
   "execution_count": null,
   "metadata": {},
   "outputs": [],
   "source": [
    "system.plot_pressure(temperature=298)"
   ]
  },
  {
   "cell_type": "code",
   "execution_count": null,
   "metadata": {},
   "outputs": [],
   "source": [
    "system.plot_mu_p(temperature=298)"
   ]
  }
 ],
 "metadata": {
  "kernelspec": {
   "display_name": "Python 3",
   "language": "python",
   "name": "python3"
  },
  "language_info": {
   "codemirror_mode": {
    "name": "ipython",
    "version": 3
   },
   "file_extension": ".py",
   "mimetype": "text/x-python",
   "name": "python",
   "nbconvert_exporter": "python",
   "pygments_lexer": "ipython3",
   "version": "3.6.7"
  }
 },
 "nbformat": 4,
 "nbformat_minor": 2
}
