{
 "cells": [
  {
   "cell_type": "code",
   "execution_count": 1,
   "metadata": {},
   "outputs": [],
   "source": [
    "import numpy as np\n",
    "from surfinpy import p_vs_t as pt\n",
    "from surfinpy import wulff  \n",
    "from surfinpy import utils as ut\n",
    "from surfinpy import data as dataset\n",
    "from pymatgen.core.surface import SlabGenerator, generate_all_slabs, Structure, Lattice\n",
    "from pymatgen.analysis.wulff import WulffShape\n",
    "import matplotlib.pyplot as plt"
   ]
  },
  {
   "cell_type": "code",
   "execution_count": 2,
   "metadata": {},
   "outputs": [],
   "source": [
    "adsorbant = -14.22\n",
    "thermochem = ut.read_nist('H2O.txt')"
   ]
  },
  {
   "cell_type": "code",
   "execution_count": 3,
   "metadata": {},
   "outputs": [],
   "source": [
    "SE_100 = 1.44\n",
    "stoich_100 = dataset.DataSet(cation = 24, x = 48, y = 0, area = 60.22, energy = -575.66, label = 'Bare')\n",
    "H2O =    dataset.DataSet(cation = 24, x = 48, y = 2, area = 60.22, energy = -609.23, label = '1 Water')\n",
    "data_100 = [H2O]"
   ]
  },
  {
   "cell_type": "code",
   "execution_count": 4,
   "metadata": {},
   "outputs": [],
   "source": [
    "SE_110 = 1.06\n",
    "stoich_110 = dataset.DataSet(cation = 24, x = 48, y = 0, area = 85.12, energy = -672.95, label = 'Bare')\n",
    "H2O =    dataset.DataSet(cation = 24, x = 48, y = 2, area = 85.12, energy = -705.00, label = '1 Water')\n",
    "data_110 = [H2O]"
   ]
  },
  {
   "cell_type": "code",
   "execution_count": 5,
   "metadata": {},
   "outputs": [],
   "source": [
    "SE_111 = 0.76\n",
    "stoich_111 = dataset.DataSet(cation = 24, x = 48, y = 0, area = 77.14, energy = -579.61, label = 'Bare')\n",
    "H2O =    dataset.DataSet(cation = 24, x = 48, y = 2, area = 77.14, energy = -609.24, label = '1 Water')\n",
    "data_111 = [H2O]"
   ]
  },
  {
   "cell_type": "code",
   "execution_count": 6,
   "metadata": {},
   "outputs": [],
   "source": [
    "lattice = Lattice.cubic(5.411)\n",
    "ceo = Structure(lattice,[\"Ce\", \"O\"],\n",
    "               [[0,0,0], [0.25,0.25,0.25]])"
   ]
  },
  {
   "cell_type": "code",
   "execution_count": 12,
   "metadata": {},
   "outputs": [],
   "source": [
    "temperature = np.arange(200, 1000, 10)\n",
    "pressure = np.arange(-13, 10.0, 1.0)\n",
    "\n",
    "surface_area_111 = np.array([])\n",
    "surface_area_110 = np.array([])\n",
    "surface_area_100 = np.array([])\n",
    "new_pressure = np.array([])\n",
    "new_temperature = np.array([])\n",
    "\n",
    "lattice = Lattice.cubic(5.411)\n",
    "ceo = Structure(lattice,[\"Ce\", \"O\"],\n",
    "               [[0,0,0], [0.25,0.25,0.25]])\n",
    "surface_area = np.array([])\n",
    "\n",
    "for i in range(pressure.size):\n",
    "    for j in range(temperature.size):\n",
    "        \n",
    "        x = wulff.calculate_surface_energy(stoich_111, data_111, SE_111, adsorbant, thermochem, temperature[j], pressure[i])\n",
    "        y =  wulff.calculate_surface_energy(stoich_110, data_110, SE_110, adsorbant, thermochem, temperature[j], pressure[i])\n",
    "        z = wulff.calculate_surface_energy(stoich_100, data_100, SE_100, adsorbant, thermochem, temperature[j], pressure[i])\n",
    "        \n",
    "        surface_energies_ceo = {(1,1,1): np.amin(x), (1,1,0): np.amin(y), (1,0,0): np.amin(z)}\n",
    "        miller_list = surface_energies_ceo.keys()\n",
    "        e_surf_list = surface_energies_ceo.values()\n",
    "        wulffshape = WulffShape(ceo.lattice, miller_list, e_surf_list)\n",
    "        miller_dict = wulffshape.miller_area_dict\n",
    "        surface_area_111 = np.append(surface_area_111, miller_dict[(1,1,1)])\n",
    "        surface_area_110 = np.append(surface_area_110, miller_dict[(1,1,0)])\n",
    "        surface_area_100 = np.append(surface_area_100, miller_dict[(1,0,0)])\n",
    "        new_pressure = np.append(new_pressure, pressure[i])\n",
    "        new_temperature = np.append(new_temperature, temperature[j])\n",
    "        surface_area = np.append(surface_area, wulffshape.surface_area)"
   ]
  },
  {
   "cell_type": "code",
   "execution_count": 13,
   "metadata": {},
   "outputs": [],
   "source": [
    "proportion_100 = (100 / surface_area) * surface_area_100\n",
    "proportion_110 = (100 / surface_area) * surface_area_110\n",
    "proportion_111 = (100 / surface_area) * surface_area_111"
   ]
  },
  {
   "cell_type": "code",
   "execution_count": 14,
   "metadata": {},
   "outputs": [],
   "source": [
    "proportion_100 = np.reshape(proportion_100, (pressure.size, temperature.size))\n",
    "proportion_110 = np.reshape(proportion_110, (pressure.size, temperature.size))\n",
    "proportion_111 = np.reshape(proportion_111, (pressure.size, temperature.size))"
   ]
  },
  {
   "cell_type": "code",
   "execution_count": 16,
   "metadata": {},
   "outputs": [
    {
     "data": {
      "image/png": "[encoded data removed]",
      "text/plain": [
       "<Figure size 432x288 with 2 Axes>"
      ]
     },
     "metadata": {
      "needs_background": "light"
     },
     "output_type": "display_data"
    }
   ],
   "source": [
    "fig = plt.figure()\n",
    "ax = fig.add_subplot(111)\n",
    "CM = ax.contourf(temperature, pressure, proportion_100, 50, cmap=\"Spectral\")\n",
    "ax.set_xlabel('Temperature (K)', fontsize=14)\n",
    "ax.set_ylabel(\"$log_{10} (P_{CO_2})$\", fontsize=14)\n",
    "cbar = fig.colorbar(CM)\n",
    "ax.tick_params(labelsize=14)\n",
    "plt.tight_layout()\n",
    "plt.show()\n",
    "plt.close()"
   ]
  },
  {
   "cell_type": "code",
   "execution_count": null,
   "metadata": {},
   "outputs": [],
   "source": []
  }
 ],
 "metadata": {
  "kernelspec": {
   "display_name": "Python 3",
   "language": "python",
   "name": "python3"
  },
  "language_info": {
   "codemirror_mode": {
    "name": "ipython",
    "version": 3
   },
   "file_extension": ".py",
   "mimetype": "text/x-python",
   "name": "python",
   "nbconvert_exporter": "python",
   "pygments_lexer": "ipython3",
   "version": "3.7.4"
  }
 },
 "nbformat": 4,
 "nbformat_minor": 2
}
