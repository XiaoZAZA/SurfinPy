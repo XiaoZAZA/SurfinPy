{
 "cells": [
  {
   "cell_type": "code",
   "execution_count": 6,
   "metadata": {},
   "outputs": [],
   "source": [
    "from surfinpy import utils as ut\n",
    "from surfinpy import vibrational_data as vd\n",
    "import numpy as np \n"
   ]
  },
  {
   "cell_type": "code",
   "execution_count": 2,
   "metadata": {},
   "outputs": [
    {
     "name": "stderr",
     "output_type": "stream",
     "text": [
      "/opt/anaconda3/lib/python3.7/site-packages/surfinpy-1.0.3-py3.7.egg/surfinpy/utils.py:334: YAMLLoadWarning: calling yaml.load() without Loader=... is deprecated, as the default Loader is unsafe. Please read https://msg.pyyaml.org/load for full details.\n",
      "  vib_prop = yaml.load(file)\n"
     ]
    }
   ],
   "source": [
    "data = ut.read_vibdata(\"../../../surfinpy/tests/test.yaml\")"
   ]
  },
  {
   "cell_type": "code",
   "execution_count": 3,
   "metadata": {},
   "outputs": [
    {
     "name": "stdout",
     "output_type": "stream",
     "text": [
      "(0.0017049071357836591, array([           nan, 5.77204564e-05, 1.43443537e-04, 2.22978480e-04,\n",
      "       2.89489944e-04, 3.41954984e-04, 3.82516656e-04, 4.13815636e-04,\n",
      "       4.38097508e-04, 4.57082883e-04]))\n"
     ]
    },
    {
     "name": "stderr",
     "output_type": "stream",
     "text": [
      "/opt/anaconda3/lib/python3.7/site-packages/surfinpy-1.0.3-py3.7.egg/surfinpy/vibrational_data.py:53: RuntimeWarning: divide by zero encountered in true_divide\n",
      "  u = np.multiply(Theta, R)/(np.exp(np.divide(Theta, temp), dtype=np.float64)-1)\n",
      "/opt/anaconda3/lib/python3.7/site-packages/surfinpy-1.0.3-py3.7.egg/surfinpy/vibrational_data.py:57: RuntimeWarning: divide by zero encountered in true_divide\n",
      "  a = np.multiply(Theta, R)*np.log(1-np.exp(np.negative(np.divide(Theta, temp)), dtype=np.float64))\n",
      "/opt/anaconda3/lib/python3.7/site-packages/surfinpy-1.0.3-py3.7.egg/surfinpy/vibrational_data.py:61: RuntimeWarning: invalid value encountered in true_divide\n",
      "  s = np.divide(np.subtract(u,a), temp)\n"
     ]
    }
   ],
   "source": [
    "print(vibrational_data.vib_calc(\"../../../surfinpy/tests/test.yaml\", np.arange(10)))"
   ]
  },
  {
   "cell_type": "code",
   "execution_count": 9,
   "metadata": {},
   "outputs": [
    {
     "name": "stdout",
     "output_type": "stream",
     "text": [
      "0.0017049071357836591\n",
      "5.77204564238144e-05\n",
      "0.0017049071357836591\n"
     ]
    }
   ],
   "source": [
    "vib_prop = ut.read_vibdata(\"../../../surfinpy/tests/test.yaml\")\n",
    "x = vd.zpe_calc(vib_prop)\n",
    "print(x)\n",
    "\n",
    "vib_prop = ut.read_vibdata(\"../../../surfinpy/tests/test.yaml\")\n",
    "new_temp = ut.build_tempgrid(np.arange(10), vib_prop['Frequencies']) \n",
    "freq = ut.build_freqgrid(vib_prop['Frequencies'], np.arange(10)) \n",
    "svib = vd.entropy_calc(freq, new_temp, vib_prop)\n",
    "print(svib[1])\n",
    "\n",
    "x = vd.vib_calc(\"../../../surfinpy/tests/test.yaml\", np.arange(10))\n",
    "print(x[0])"
   ]
  },
  {
   "cell_type": "code",
   "execution_count": null,
   "metadata": {},
   "outputs": [],
   "source": []
  }
 ],
 "metadata": {
  "kernelspec": {
   "display_name": "Python 3",
   "language": "python",
   "name": "python3"
  },
  "language_info": {
   "codemirror_mode": {
    "name": "ipython",
    "version": 3
   },
   "file_extension": ".py",
   "mimetype": "text/x-python",
   "name": "python",
   "nbconvert_exporter": "python",
   "pygments_lexer": "ipython3",
   "version": "3.7.4"
  }
 },
 "nbformat": 4,
 "nbformat_minor": 2
}
