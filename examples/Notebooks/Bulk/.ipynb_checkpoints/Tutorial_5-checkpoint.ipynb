{
 "cells": [
  {
   "cell_type": "markdown",
   "metadata": {},
   "source": [
    "## Surfinpy\n",
    "\n",
    "#### Tutorial 5 -Temperature vs pressure\n",
    "\n",
    "What is the motivation for doing this?\n",
    "\n",
    "What questions can you answer? \n",
    "\n",
    "What are the thermodynamics? Maths / equations\n"
   ]
  },
  {
   "cell_type": "code",
   "execution_count": 1,
   "metadata": {},
   "outputs": [],
   "source": [
    "from surfinpy import utils as ut\n",
    "from surfinpy import bulk_mu_vs_t as bmvt\n",
    "from surfinpy import data\n",
    "colmap = ['#5B9BD5', '#4472C4', '#A5A5A5', '#772C24', '#ED7D31', '#FFC000', '#70AD47','#255E91', '#99ffcc']"
   ]
  },
  {
   "cell_type": "code",
   "execution_count": 2,
   "metadata": {},
   "outputs": [],
   "source": [
    "temperature_range = [273, 373]"
   ]
  },
  {
   "cell_type": "code",
   "execution_count": 3,
   "metadata": {},
   "outputs": [
    {
     "name": "stderr",
     "output_type": "stream",
     "text": [
      "/opt/anaconda3/lib/python3.7/site-packages/surfinpy-1.0.3-py3.7.egg/surfinpy/utils.py:323: YAMLLoadWarning: calling yaml.load() without Loader=... is deprecated, as the default Loader is unsafe. Please read https://msg.pyyaml.org/load for full details.\n",
      "  vib_prop = yaml.load(file)\n"
     ]
    }
   ],
   "source": [
    "bulk = data.ReferenceDataSet(cation = 1, anion = 1, energy = -92.0, funits = 10, file = 'bulk_vib.yaml', entropy=True, temp_range=temperature_range)"
   ]
  },
  {
   "cell_type": "code",
   "execution_count": 4,
   "metadata": {},
   "outputs": [],
   "source": [
    "MgO = data.DataSet(cation = 10, x = 0, y = 0, energy = -92.35637426, label = \"Periclase\", entropy = True, file = 'MgO_vib.yaml', funits = 10, temp_range=temperature_range)\n",
    "Art = data.DataSet(cation = 10, x = 5, y = 20, energy = -467.308589, label = \"Artinite\", entropy = True, file = 'Art_vib.yaml', funits = 5, temp_range=temperature_range)\n",
    "Bru = data.DataSet(cation = 10, x = 0, y = 10, energy = -227.3449021, label = \"Brucite\", entropy = True, file = 'Bru_vib.yaml', funits =  10, temp_range=temperature_range)\n",
    "Nes = data.DataSet(cation = 10, x = 10, y = 30, energy = -705.7643942, label = \"Nesquehonite\", entropy = True, file = 'Nes_vib.yaml', funits = 10, temp_range=temperature_range)\n",
    "Mag = data.DataSet(cation = 10, x = 10, y = 0, energy = -310.3283693, label = \"Magnesite\", entropy = True,  file = 'Mag_vib.yaml', funits =  10, temp_range=temperature_range)\n",
    "Lan = data.DataSet(cation = 10, x = 10, y = 50, energy = -971.8116011, label = \"Lansfordite\", entropy = True, file = 'Lan_vib.yaml', funits =  10, temp_range=temperature_range)\n",
    "Hyd = data.DataSet(cation = 10, x = 8, y = 10, energy = -398.6071433, label = \"Hydromagnesite\", entropy = True, file = 'Hyd_vib.yaml', funits =  2, temp_range=temperature_range)"
   ]
  },
  {
   "cell_type": "code",
   "execution_count": 5,
   "metadata": {},
   "outputs": [],
   "source": [
    "data = [MgO, Art, Bru, Nes, Lan, Hyd]"
   ]
  },
  {
   "cell_type": "code",
   "execution_count": 6,
   "metadata": {},
   "outputs": [],
   "source": [
    "deltaX = {'Range': [ -1, 0.6],  'Label': 'CO_2'}\n",
    "deltaY = {'Range': [ 273, 373], 'Label': 'Temperature'}\n",
    "x_energy=-20.53412969\n",
    "y_energy=-12.83725889\n",
    "mu_z = 0"
   ]
  },
  {
   "cell_type": "code",
   "execution_count": 7,
   "metadata": {},
   "outputs": [],
   "source": [
    "exp_x = ut.temperature_correction_range(\"CO2.txt\", deltaY)\n",
    "exp_z = ut.temperature_correction_range(\"H2O.txt\", deltaY)"
   ]
  },
  {
   "cell_type": "code",
   "execution_count": 8,
   "metadata": {},
   "outputs": [
    {
     "data": {
      "image/png": "[encoded data removed]",
      "text/plain": [
       "<Figure size 432x288 with 2 Axes>"
      ]
     },
     "metadata": {
      "needs_background": "light"
     },
     "output_type": "display_data"
    }
   ],
   "source": [
    "system = bmvt.calculate(data, bulk, deltaX, deltaY, x_energy, y_energy, mu_z, exp_x, exp_z)\n",
    "system.plot_phase(set_style=\"seaborn-dark-palette\", colourmap=\"RdYlBu\", temperature=298)"
   ]
  },
  {
   "cell_type": "code",
   "execution_count": null,
   "metadata": {},
   "outputs": [],
   "source": []
  }
 ],
 "metadata": {
  "kernelspec": {
   "display_name": "Python 3",
   "language": "python",
   "name": "python3"
  },
  "language_info": {
   "codemirror_mode": {
    "name": "ipython",
    "version": 3
   },
   "file_extension": ".py",
   "mimetype": "text/x-python",
   "name": "python",
   "nbconvert_exporter": "python",
   "pygments_lexer": "ipython3",
   "version": "3.7.4"
  }
 },
 "nbformat": 4,
 "nbformat_minor": 2
}
