{
 "cells": [
  {
   "cell_type": "markdown",
   "metadata": {},
   "source": [
    "## Surfinpy\n",
    "\n",
    "#### Tutorial 2 - Introducing temperature dependence"
   ]
  },
  {
   "cell_type": "markdown",
   "metadata": {},
   "source": [
    "In tutorial 1 we generated a phase diagram at 0 K.  However, this is not representative of normal conditions.  Temperature is an important consideration for materials chemistry and we may wish to evaluate the phase thermodynamic stability at various synthesis conditions.  In order to overcome this and intorrduce temperature we need to modife the equations from tutorial 1.  This example will again be using the MgO-CO<sub>2</sub>-H<sub>2</sub>O system."
   ]
  },
  {
   "cell_type": "markdown",
   "metadata": {},
   "source": [
    "##### Methodology"
   ]
  },
  {
   "cell_type": "markdown",
   "metadata": {},
   "source": [
    "As before the free energy can be calculated using;"
   ]
  },
  {
   "cell_type": "markdown",
   "metadata": {},
   "source": [
    "\\begin{align}\n",
    "\\Delta G^{0}_{f} = \\sum\\Delta G_{f}^{0,\\text{products}} - \\sum\\Delta G_{f}^{0,\\text{reactants}}\n",
    "\\end{align}\n"
   ]
  },
  {
   "cell_type": "markdown",
   "metadata": {},
   "source": [
    "Where for this tutorial the free energy (G) for solid phases  is equal to is equal to the calculated DFT energy (U<sub>0</sub>). For gaseous species, the standard free energy varies significantly with temperature, and as DFT simulations are designed for condensed phase systems, we use experimental data to determine the temperature dependent free energy term for gaseous species, where $S_{\\text{expt}}(T)$ is specific entropy value for a given T and  $H-H^0(T)$ is the , both can be obtained from the NIST database and can be calculated as;"
   ]
  },
  {
   "cell_type": "markdown",
   "metadata": {},
   "source": [
    "\\begin{align}\n",
    "G =  U_0 + (H-H^0(T) - T S_{\\text{expt}}(T))\n",
    "\\end{align}\n"
   ]
  },
  {
   "cell_type": "markdown",
   "metadata": {},
   "source": [
    "##### Code"
   ]
  },
  {
   "cell_type": "code",
   "execution_count": 1,
   "metadata": {},
   "outputs": [],
   "source": [
    "import matplotlib.pyplot as plt\n",
    "from surfinpy import bulk_mu_vs_mu as bmvm\n",
    "from surfinpy import utils as ut\n",
    "from surfinpy import data"
   ]
  },
  {
   "cell_type": "markdown",
   "metadata": {},
   "source": [
    "Same as tutorial 1 we first need to enter the DFT data in to the various data classes and create a list of the data."
   ]
  },
  {
   "cell_type": "code",
   "execution_count": 2,
   "metadata": {},
   "outputs": [],
   "source": [
    "bulk = data.ReferenceDataSet(cation = 1, anion = 1, energy = -92.0, funits = 10)"
   ]
  },
  {
   "cell_type": "code",
   "execution_count": 3,
   "metadata": {},
   "outputs": [],
   "source": [
    "MgO = data.DataSet(cation = 10, x = 0, y = 0, energy = -92.0, label = \"Periclase\")\n",
    "Art = data.DataSet(cation = 10, x = 5, y = 20, energy = -468.0, label = \"Artinite\")\n",
    "Bru = data.DataSet(cation = 10, x = 0, y = 10, energy = -228.0, label = \"Brucite\")\n",
    "Nes = data.DataSet(cation = 10, x = 10, y = 30, energy = -706.0, label = \"Nesquehonite\")\n",
    "Mag = data.DataSet(cation = 10, x = 10, y = 0, energy = -310.0, label = \"Magnesite\")\n",
    "Lan = data.DataSet(cation = 10, x = 10, y = 50, energy = -972.0, label = \"Lansfordite\")\n",
    "Hyd = data.DataSet(cation = 10, x = 8, y = 10, energy = -398.0, label = \"Hydromagnesite\")"
   ]
  },
  {
   "cell_type": "code",
   "execution_count": 4,
   "metadata": {},
   "outputs": [],
   "source": [
    "data = [MgO, Art, Bru, Nes,  Mag, Lan, Hyd]"
   ]
  },
  {
   "cell_type": "code",
   "execution_count": 5,
   "metadata": {},
   "outputs": [],
   "source": [
    "x_energy=-20.53412969\n",
    "y_energy=-12.83725889"
   ]
  },
  {
   "cell_type": "markdown",
   "metadata": {},
   "source": [
    "In order to calculate $S_{\\text{expt}}(T)$ for H<sub>2</sub>O and CO<sub>2</sub> we need to use experimental data from the NSIT JANAF database.  As a user you will need to download the tables for the species you are interested in (in this example water and carbon dioxide).  SurfinPy has a function that can read this data, assuming it is in the correct format and calculate the temperature correction for you.  Provide the math to the file and the temperature you want."
   ]
  },
  {
   "cell_type": "code",
   "execution_count": 6,
   "metadata": {},
   "outputs": [],
   "source": [
    "CO2_exp = ut.fit_nist(\"CO2.txt\")[298]\n",
    "Water_exp = ut.fit_nist(\"H2O.txt\")[298]\n",
    "\n",
    "CO2_corrected = x_energy + CO2_exp\n",
    "Water_corrected = y_energy + Water_exp\n",
    "\n",
    "deltaX = {'Range': [ -3, 2],  'Label': 'CO_2'}\n",
    "deltaY = {'Range': [ -3, 2], 'Label': 'H_2O'}"
   ]
  },
  {
   "cell_type": "markdown",
   "metadata": {},
   "source": [
    "CO2_corrected and H2O_corrected are now temperature depenent terms correcsponding to a temperature of 298 K.  The resulting phase diagram will now be at a temperature of 298 K."
   ]
  },
  {
   "cell_type": "code",
   "execution_count": 8,
   "metadata": {
    "tags": []
   },
   "outputs": [
    {
     "data": {
      "image/png": "[encoded data removed]",
      "text/plain": [
       "<Figure size 432x288 with 2 Axes>"
      ]
     },
     "metadata": {
      "needs_background": "light"
     },
     "output_type": "display_data"
    }
   ],
   "source": [
    "system = bmvm.calculate(data, bulk, deltaX, deltaY, x_energy=CO2_corrected, y_energy=Water_corrected)\n",
    "\n",
    "ax = system.plot_phase(temperature=298)\n",
    "plt.savefig(\"../../../docs/source/Figures/Bulk_2.png\", dpi=600)\n",
    "\n",
    "plt.show()"
   ]
  },
  {
   "cell_type": "code",
   "execution_count": null,
   "metadata": {},
   "outputs": [],
   "source": []
  },
  {
   "cell_type": "code",
   "execution_count": null,
   "metadata": {},
   "outputs": [],
   "source": []
  }
 ],
 "metadata": {
  "kernelspec": {
   "display_name": "Python 3",
   "language": "python",
   "name": "python3"
  },
  "language_info": {
   "codemirror_mode": {
    "name": "ipython",
    "version": 3
   },
   "file_extension": ".py",
   "mimetype": "text/x-python",
   "name": "python",
   "nbconvert_exporter": "python",
   "pygments_lexer": "ipython3",
   "version": "3.7.4"
  }
 },
 "nbformat": 4,
 "nbformat_minor": 2
}
