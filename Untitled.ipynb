{
 "cells": [
  {
   "cell_type": "code",
   "execution_count": 1,
   "metadata": {
    "collapsed": true
   },
   "outputs": [],
   "source": [
    "import numpy as np\n",
    "\n",
    "from surfinpy import p_vs_t as pt\n",
    "from surfinpy import wulff  \n",
    "from pymatgen.core.surface import SlabGenerator, generate_all_slabs, Structure, Lattice\n",
    "from pymatgen.analysis.wulff import WulffShape\n",
    "\n",
    "# User inputs\n",
    "Adsorbant = -21.55846785\n",
    "SE = 1.44\n",
    "stoich = {'M': 24, 'X': 48, 'Y': 0, 'Area':60.22, 'Energy': -575.66, 'Label': 'Stoich'}\n",
    "Adsorbant_1 = {'M': 24, 'X': 48, 'Y': 2, 'Area': 60.22, 'Energy': -622.87,  'Label': '1 Species'}\n",
    "Adsorbant_2 = {'M': 24, 'X': 48, 'Y': 4, 'Area': 60.22, 'Energy': -672.22, 'Label': '2 Species'}\n",
    "\n",
    "data = [Adsorbant_1, Adsorbant_2]\n",
    "coverage = np.array([(1.66 * 10**18), (3.32 * 10**18)])\n",
    "thermochem = np.genfromtxt('Free_energy.txt', dtype=float)\n",
    "\n",
    "Surface_100 = wulff.calculate_surface_energy(stoich, data, SE, adsorbant, coverage, thermochem, 298, 0)"
   ]
  },
  {
   "cell_type": "code",
   "execution_count": 2,
   "metadata": {
    "collapsed": true
   },
   "outputs": [],
   "source": [
    "adsorbant = -21.55846785\n",
    "SE = 1.06\n",
    "\n",
    "stoich = {'M': 24, 'X': 48, 'Y': 0, 'Area': 85.12, 'Energy': -672.95, 'Label': '0.00 - $Ce^{4+}$'}\n",
    "Adsorbant_1 = {'M': 24, 'X': 48, 'Y': 2, 'Area': 85.12, 'Energy': -718.62,  'Label': '1.66 - $Ce^{4+}$'}\n",
    "Adsorbant_2 = {'M': 24, 'X': 48, 'Y': 4, 'Area':85.12, 'Energy': -766.80, 'Label': '3.32 - $Ce^{4+}$'}\n",
    "\n",
    "data = [Adsorbant_1, Adsorbant_2]\n",
    "coverage = np.array([(1.17 * 10**18), (2.35 * 10**18)])\n",
    "thermochem = np.genfromtxt('Free_energy.txt', dtype=float)\n",
    "S_110 = wulff.calculate_surface_energy(stoich, data, SE, adsorbant, coverage, thermochem, 298, 0)\n"
   ]
  },
  {
   "cell_type": "code",
   "execution_count": 3,
   "metadata": {
    "collapsed": true
   },
   "outputs": [],
   "source": [
    "adsorbant = -21.55846785\n",
    "SE = 0.76\n",
    "stoich = {'M': 24, 'X': 48, 'Y': 0, 'Area': 77.14, 'Energy': -579.610371, 'Label': '0.00 - $Ce^{4+}$'}\n",
    "H2O = {'M': 24, 'X': 48, 'Y': 2, 'Area': 77.14, 'Energy': -624.24728,  'Label': '1.66 - $Ce^{4+}$'}\n",
    "H2O_2 = {'M': 24, 'X': 48, 'Y': 4, 'Area': 77.14, 'Energy': -670.77988, 'Label': '3.32 - $Ce^{4+}$'}\n",
    "H2O_3 = {'M': 24, 'X': 48, 'Y': 6, 'Area': 77.14, 'Energy': -709.94, 'Label': '3.32 - $Ce^{4+}$'}\n",
    "\n",
    "data = [H2O, H2O_2, H2O_3]\n",
    "coverage = np.array([(1.66 * 10**18), (3.32 * 10**18), (4.98 * 10**18)])\n",
    "thermochem = np.genfromtxt('Free_energy.txt', dtype=float)\n",
    "\n",
    "S_111 = wulff.calculate_surface_energy(stoich, data, SE, adsorbant, coverage, thermochem, 298, 0)"
   ]
  },
  {
   "cell_type": "code",
   "execution_count": 4,
   "metadata": {},
   "outputs": [
    {
     "name": "stdout",
     "output_type": "stream",
     "text": [
      "[ 1.44        1.07103403  0.41749043  0.35437892]\n",
      "[ 1.06        0.94428527  0.59132136  0.47218199  0.35063903]\n",
      "[ 0.76        0.73320419  0.45431901  1.15582769]\n"
     ]
    }
   ],
   "source": [
    "print(S_100)\n",
    "print(S_110)\n",
    "print(S_111)\n",
    "x = (S_100[2])\n",
    "y = (S_110[2])\n",
    "z = (S_111[2])\n",
    "#x = (np.amin(S_100))\n",
    "#y = (np.amin(S_110))\n",
    "#z = (np.amin(S_111))"
   ]
  },
  {
   "cell_type": "code",
   "execution_count": 5,
   "metadata": {},
   "outputs": [
    {
     "name": "stdout",
     "output_type": "stream",
     "text": [
      "shape factor: 5.280, anisotropy: 0.042, weighted surface energy: 0.435 J/m^2\n"
     ]
    },
    {
     "data": {
      "image/png": "[encoded data removed]",
      "text/plain": [
       "<matplotlib.figure.Figure at 0x2a193020f98>"
      ]
     },
     "metadata": {},
     "output_type": "display_data"
    }
   ],
   "source": [
    "lattice = Lattice.cubic(5.411)\n",
    "ceo = Structure(lattice,[\"Ce\", \"O\"],\n",
    "               [[0,0,0], [0.25,0.25,0.25]])\n",
    "surface_energies_ceo = {(1,1,1): z, (1,1,0): y, (1,0,0): x}\n",
    "\n",
    "miller_list = surface_energies_ceo.keys()\n",
    "e_surf_list = surface_energies_ceo.values()\n",
    "\n",
    "# We can now construct a Wulff shape with an accuracy up to a max Miller index of 3\n",
    "wulffshape = WulffShape(ceo.lattice, miller_list, e_surf_list)\n",
    "\n",
    "# Let's get some useful information from our wulffshape object\n",
    "print(\"shape factor: %.3f, anisotropy: \\\n",
    "%.3f, weighted surface energy: %.3f J/m^2\" %(wulffshape.shape_factor, \n",
    "                                       wulffshape.anisotropy,\n",
    "                                       wulffshape.weighted_surface_energy))\n",
    "\n",
    "\n",
    "# If we want to see what our Wulff shape looks like\n",
    "wulffshape.show(color_set=\"RdBu\", output=\"Wulff_carbonate.png\")\n",
    "#wulffshape.show(custom_colors={(1,1,1): \"darkblue\"}, direction=(1, 0.2, 0), output=\"Wulff_Bare.png\")"
   ]
  }
 ],
 "metadata": {
  "kernelspec": {
   "display_name": "Python 3",
   "language": "python",
   "name": "python3"
  },
  "language_info": {
   "codemirror_mode": {
    "name": "ipython",
    "version": 3
   },
   "file_extension": ".py",
   "mimetype": "text/x-python",
   "name": "python",
   "nbconvert_exporter": "python",
   "pygments_lexer": "ipython3",
   "version": "3.7.0"
  }
 },
 "nbformat": 4,
 "nbformat_minor": 2
}
