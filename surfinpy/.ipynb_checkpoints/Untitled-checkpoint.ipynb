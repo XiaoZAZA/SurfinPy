{
 "cells": [
  {
   "cell_type": "code",
   "execution_count": 1,
   "metadata": {},
   "outputs": [],
   "source": [
    "import numpy as np\n",
    "import matplotlib.pyplot as plt\n",
    "import p_vs_t as pt\n",
    "import phaseplot as pp\n",
    "import wulff as wulff\n",
    "from pymatgen.core.surface import SlabGenerator, generate_all_slabs, Structure, Lattice\n",
    "\n",
    "from pymatgen.analysis.wulff import WulffShape\n",
    "\n",
    "import os\n",
    "\n",
    "# User inputs\n",
    "adsorbant = -21.55846785\n",
    "SE = 1.44\n",
    "stoich = {'M': 24, 'X': 48, 'Y': 0, 'Area': 85.12, 'Energy': -575.660075, 'Label': '0.00 - $Ce^{4+}$'}\n",
    "H2O = {'M': 24, 'X': 48, 'Y': 2, 'Area': 85.12, 'Energy': -622.877140,  'Label': '1.66 - $Ce^{4+}$'}\n",
    "H2O_2 = {'M': 24, 'X': 48, 'Y': 4, 'Area':85.12, 'Energy': -672.229460, 'Label': '3.32 - $Ce^{4+}$'}\n",
    "H2O_3 = {'M': 24, 'X': 48, 'Y': 6, 'Area': 85.12, 'Energy':  -717.138240, 'Label': '3.32 - $Ce^{4+}$'}\n",
    "\n",
    "data = [H2O, H2O_2, H2O_3]\n",
    "coverage = np.array([(1.66 * 10**18), (3.32 * 10**18), (4.98 * 10**18)])\n",
    "thermochem = np.genfromtxt('Free_energy.txt', dtype=float)\n",
    "\n",
    "S_100 = wulff.calculate_surface_energy(stoich, data, SE, adsorbant, coverage, thermochem, 298, 0)\n",
    "#x, y, z = pt.calculate(stoich, data, SE, adsorbant, coverage, thermochem)\n",
    "\n",
    "#pp.tvp_plot(x, y, z, \"Test.png\")"
   ]
  },
  {
   "cell_type": "code",
   "execution_count": 2,
   "metadata": {
    "collapsed": true
   },
   "outputs": [],
   "source": [
    "\n",
    "adsorbant = -21.55846785\n",
    "SE = 1.06\n",
    "\n",
    "coverage = np.array([(1.17 * 10**18), (2.35 * 10**18), (3.52 * 10**18), (4.68 * 10**18)])\n",
    "\n",
    "stoich = {'M': 24, 'X': 48, 'Y': 0, 'Area': 85.12, 'Energy': -672.952277, 'Label': '0.00 - $Ce^{4+}$'}\n",
    "H2O = {'M': 24, 'X': 48, 'Y': 2, 'Area': 85.12, 'Energy': -718.62148,  'Label': '1.66 - $Ce^{4+}$'}\n",
    "H2O_2 = {'M': 24, 'X': 48, 'Y': 4, 'Area':85.12, 'Energy': -766.80267, 'Label': '3.32 - $Ce^{4+}$'}\n",
    "H2O_3 = {'M': 24, 'X': 48, 'Y': 6, 'Area': 85.12, 'Energy':   -812.37619, 'Label': '3.32 - $Ce^{4+}$'}\n",
    "H2O_4 = {'M': 24, 'X': 48, 'Y': 8, 'Area': 85.12, 'Energy':   -858.25641, 'Label': '3.32 - $Ce^{4+}$'}\n",
    "data = [H2O, H2O_2, H2O_3, H2O_4]\n",
    "\n",
    "thermochem = np.genfromtxt('Free_energy.txt', dtype=float)\n",
    "S_110 = wulff.calculate_surface_energy(stoich, data, SE, adsorbant, coverage, thermochem, 298, 0)\n"
   ]
  },
  {
   "cell_type": "code",
   "execution_count": 3,
   "metadata": {
    "collapsed": true
   },
   "outputs": [],
   "source": [
    "adsorbant = -21.55846785\n",
    "SE = 0.76\n",
    "stoich = {'M': 24, 'X': 48, 'Y': 0, 'Area': 85.12, 'Energy': -579.610371, 'Label': '0.00 - $Ce^{4+}$'}\n",
    "H2O = {'M': 24, 'X': 48, 'Y': 2, 'Area': 85.12, 'Energy': -622.87714,  'Label': '1.66 - $Ce^{4+}$'}\n",
    "H2O_2 = {'M': 24, 'X': 48, 'Y': 4, 'Area':85.12, 'Energy': -672.22946, 'Label': '3.32 - $Ce^{4+}$'}\n",
    "\n",
    "data = [H2O, H2O_2]\n",
    "coverage = np.array([(1.30 * 10**18), (2.59 * 10**18)])\n",
    "thermochem = np.genfromtxt('Free_energy.txt', dtype=float)\n",
    "\n",
    "S_111 = wulff.calculate_surface_energy(stoich, data, SE, adsorbant, coverage, thermochem, 298, 0)"
   ]
  },
  {
   "cell_type": "code",
   "execution_count": 4,
   "metadata": {},
   "outputs": [
    {
     "name": "stdout",
     "output_type": "stream",
     "text": [
      "[ 1.44        1.07009452  0.41624241  0.35329314]\n",
      "[ 1.06        0.94435997  0.59128437  0.48497335  0.35118892]\n",
      "[ 0.76        0.88170324  0.37115173]\n"
     ]
    }
   ],
   "source": [
    "print(S_100)\n",
    "print(S_110)\n",
    "print(S_111)\n",
    "x = (S_100[0])\n",
    "y = (S_110[0])\n",
    "z = (S_111[0])\n",
    "x = (np.amin(S_100))\n",
    "y = (np.amin(S_110))\n",
    "z = (np.amin(S_111))"
   ]
  },
  {
   "cell_type": "code",
   "execution_count": 5,
   "metadata": {},
   "outputs": [
    {
     "name": "stdout",
     "output_type": "stream",
     "text": [
      "shape factor: 5.070, anisotropy: 0.020, weighted surface energy: 0.355 J/m^2\n"
     ]
    },
    {
     "data": {
      "image/png": "[encoded data removed]",
      "text/plain": [
       "<matplotlib.figure.Figure at 0x26aa9f4ffd0>"
      ]
     },
     "metadata": {},
     "output_type": "display_data"
    }
   ],
   "source": [
    "lattice = Lattice.cubic(5.411)\n",
    "ceo = Structure(lattice,[\"Ce\", \"O\"],\n",
    "               [[0,0,0], [0.25,0.25,0.25]])\n",
    "surface_energies_ceo = {(1,1,1): z, (1,1,0): y, (1,0,0): x}\n",
    "\n",
    "miller_list = surface_energies_ceo.keys()\n",
    "e_surf_list = surface_energies_ceo.values()\n",
    "\n",
    "# We can now construct a Wulff shape with an accuracy up to a max Miller index of 3\n",
    "wulffshape = WulffShape(ceo.lattice, miller_list, e_surf_list)\n",
    "\n",
    "# Let's get some useful information from our wulffshape object\n",
    "print(\"shape factor: %.3f, anisotropy: \\\n",
    "%.3f, weighted surface energy: %.3f J/m^2\" %(wulffshape.shape_factor, \n",
    "                                       wulffshape.anisotropy,\n",
    "                                       wulffshape.weighted_surface_energy))\n",
    "\n",
    "\n",
    "# If we want to see what our Wulff shape looks like\n",
    "wulffshape.show(color_set=\"RdBu\", output=\"Wulff_carbonate.png\")\n",
    "#wulffshape.show(custom_colors={(1,1,1): \"darkblue\"}, direction=(1, 0.2, 0), output=\"Wulff_Bare.png\")"
   ]
  }
 ],
 "metadata": {
  "kernelspec": {
   "display_name": "Python 3",
   "language": "python",
   "name": "python3"
  },
  "language_info": {
   "codemirror_mode": {
    "name": "ipython",
    "version": 3
   },
   "file_extension": ".py",
   "mimetype": "text/x-python",
   "name": "python",
   "nbconvert_exporter": "python",
   "pygments_lexer": "ipython3",
   "version": "3.6.1"
  }
 },
 "nbformat": 4,
 "nbformat_minor": 2
}
